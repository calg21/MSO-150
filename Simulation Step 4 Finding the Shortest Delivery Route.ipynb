{
 "cells": [
  {
   "cell_type": "markdown",
   "id": "637939d0",
   "metadata": {
    "toc": true
   },
   "source": [
    "<h1>Table of Contents<span class=\"tocSkip\"></span></h1>\n",
    "<div class=\"toc\"><ul class=\"toc-item\"><li><span><a href=\"#Utilities-(Copied-from-Starter-File)\" data-toc-modified-id=\"Utilities-(Copied-from-Starter-File)-1\"><span class=\"toc-item-num\">1&nbsp;&nbsp;</span>Utilities (Copied from Starter File)</a></span><ul class=\"toc-item\"><li><span><a href=\"#Constants\" data-toc-modified-id=\"Constants-1.1\"><span class=\"toc-item-num\">1.1&nbsp;&nbsp;</span>Constants</a></span></li><li><span><a href=\"#PlotMap\" data-toc-modified-id=\"PlotMap-1.2\"><span class=\"toc-item-num\">1.2&nbsp;&nbsp;</span>PlotMap</a></span></li></ul></li><li><span><a href=\"#Load-Pickled-Sample-Data\" data-toc-modified-id=\"Load-Pickled-Sample-Data-2\"><span class=\"toc-item-num\">2&nbsp;&nbsp;</span>Load Pickled Sample Data</a></span><ul class=\"toc-item\"><li><span><a href=\"#Map\" data-toc-modified-id=\"Map-2.1\"><span class=\"toc-item-num\">2.1&nbsp;&nbsp;</span>Map</a></span></li><li><span><a href=\"#Warehouse-Location\" data-toc-modified-id=\"Warehouse-Location-2.2\"><span class=\"toc-item-num\">2.2&nbsp;&nbsp;</span>Warehouse Location</a></span></li><li><span><a href=\"#Customer-Locations\" data-toc-modified-id=\"Customer-Locations-2.3\"><span class=\"toc-item-num\">2.3&nbsp;&nbsp;</span>Customer Locations</a></span></li><li><span><a href=\"#Delivery-Schedule\" data-toc-modified-id=\"Delivery-Schedule-2.4\"><span class=\"toc-item-num\">2.4&nbsp;&nbsp;</span>Delivery Schedule</a></span></li><li><span><a href=\"#Visualisation\" data-toc-modified-id=\"Visualisation-2.5\"><span class=\"toc-item-num\">2.5&nbsp;&nbsp;</span>Visualisation</a></span></li></ul></li><li><span><a href=\"#Finding-the-Shortest-Past\" data-toc-modified-id=\"Finding-the-Shortest-Past-3\"><span class=\"toc-item-num\">3&nbsp;&nbsp;</span>Finding the Shortest Past</a></span><ul class=\"toc-item\"><li><span><a href=\"#The-Algorithm\" data-toc-modified-id=\"The-Algorithm-3.1\"><span class=\"toc-item-num\">3.1&nbsp;&nbsp;</span>The Algorithm</a></span></li><li><span><a href=\"#Testing\" data-toc-modified-id=\"Testing-3.2\"><span class=\"toc-item-num\">3.2&nbsp;&nbsp;</span>Testing</a></span></li></ul></li><li><span><a href=\"#Finding-Shortest-Delivery-Route\" data-toc-modified-id=\"Finding-Shortest-Delivery-Route-4\"><span class=\"toc-item-num\">4&nbsp;&nbsp;</span>Finding Shortest Delivery Route</a></span><ul class=\"toc-item\"><li><span><a href=\"#The-Algorithm\" data-toc-modified-id=\"The-Algorithm-4.1\"><span class=\"toc-item-num\">4.1&nbsp;&nbsp;</span>The Algorithm</a></span></li><li><span><a href=\"#Testing\" data-toc-modified-id=\"Testing-4.2\"><span class=\"toc-item-num\">4.2&nbsp;&nbsp;</span>Testing</a></span><ul class=\"toc-item\"><li><span><a href=\"#Random-Sample\" data-toc-modified-id=\"Random-Sample-4.2.1\"><span class=\"toc-item-num\">4.2.1&nbsp;&nbsp;</span>Random Sample</a></span></li><li><span><a href=\"#Delivering-to-all-Customers\" data-toc-modified-id=\"Delivering-to-all-Customers-4.2.2\"><span class=\"toc-item-num\">4.2.2&nbsp;&nbsp;</span>Delivering to all Customers</a></span></li></ul></li></ul></li></ul></div>"
   ]
  },
  {
   "cell_type": "code",
   "execution_count": 6,
   "id": "be8aae5f",
   "metadata": {
    "ExecuteTime": {
     "end_time": "2023-03-29T18:45:49.351747Z",
     "start_time": "2023-03-29T18:45:47.920991Z"
    }
   },
   "outputs": [],
   "source": [
    "import matplotlib.pyplot as plt\n",
    "import pulp\n",
    "import math\n",
    "import random\n",
    "import pandas as pd\n",
    "import numpy as np"
   ]
  },
  {
   "cell_type": "markdown",
   "id": "3cddb246",
   "metadata": {},
   "source": [
    "# Utilities (Copied from Starter File)"
   ]
  },
  {
   "cell_type": "markdown",
   "id": "0c1591c3",
   "metadata": {},
   "source": [
    "## Points and Distances"
   ]
  },
  {
   "cell_type": "code",
   "execution_count": 7,
   "id": "5fdbbc6a",
   "metadata": {
    "ExecuteTime": {
     "end_time": "2023-03-29T18:45:49.355854Z",
     "start_time": "2023-03-29T18:45:49.353790Z"
    }
   },
   "outputs": [],
   "source": [
    "def dist(p1, p2):\n",
    "    (x1, y1) = p1\n",
    "    (x2, y2) = p2\n",
    "    return int(math.sqrt((x1-x2)**2+(y1-y2)**2))"
   ]
  },
  {
   "cell_type": "markdown",
   "id": "c3084fd8",
   "metadata": {},
   "source": [
    "## PlotMap"
   ]
  },
  {
   "cell_type": "code",
   "execution_count": 8,
   "id": "678ac493",
   "metadata": {
    "ExecuteTime": {
     "end_time": "2023-03-29T18:45:49.368419Z",
     "start_time": "2023-03-29T18:45:49.361941Z"
    }
   },
   "outputs": [],
   "source": [
    "def plotMap(G, T=[], P=[], W=None,\n",
    "            style='r-o', lw=1, ms=3, \n",
    "            styleT='go', msT=5,\n",
    "            styleP='b-o', lwP=3, msP=1,\n",
    "            stylePT='go', msPT=7,\n",
    "            styleW='bo', msW=9,\n",
    "            text=None, grid=False):\n",
    "    fig = plt.gcf()\n",
    "    fig.set_size_inches(6, 6)\n",
    "    V, E = G\n",
    "\n",
    "    if not grid:\n",
    "        plt.axis('off')\n",
    "    plt.plot( [ p[0] for p in V ], [ p[1] for p in V ], 'ro', lw=lw, ms=ms)\n",
    "    for (p, q) in E:\n",
    "        plt.plot( [ p[0], q[0] ], [ p[1], q[1] ], 'r-o', lw=lw, ms=ms)\n",
    "    for t in T:\n",
    "        plt.plot( [ t[0] ], [ t[1] ], \n",
    "                  styleT, ms=msT)\n",
    "    plt.plot( [ p[0] for p in P ],\n",
    "              [ p[1] for p in P ], \n",
    "              styleP, lw=lwP, ms=msP)\n",
    "    for p in P:\n",
    "        if p in T:\n",
    "            plt.plot( [ p[0] ], [ p[1] ], \n",
    "                      stylePT, ms=msPT)\n",
    "    if W is not None:\n",
    "        plt.plot( [ W[0] ], [ W[1] ], \n",
    "                      styleW, ms=msW)\n",
    "    if text is not None:\n",
    "        maxX = max([p[0] for p in V])\n",
    "        plt.text(0.8*maxX, 0, text)\n",
    "    if grid:\n",
    "        plt.grid()\n",
    "    plt.show()"
   ]
  },
  {
   "cell_type": "markdown",
   "id": "14a420ce-1fe8-49d5-9ecb-7f8965666c47",
   "metadata": {},
   "source": [
    "## Add Targets"
   ]
  },
  {
   "cell_type": "code",
   "execution_count": 9,
   "id": "8df0d6be-a4ae-410c-aa31-54925acc9ed9",
   "metadata": {},
   "outputs": [],
   "source": [
    "def addTargets(M, T):\n",
    "    V, E = M\n",
    "    E = E.copy()\n",
    "    V = V.copy()\n",
    "    for t in T:\n",
    "        minD = math.inf\n",
    "        minE = None\n",
    "        for e in E:\n",
    "            P, Q = e\n",
    "            distT = dist(P, t)+dist(t, Q)-dist(P, Q)\n",
    "            if distT < minD:\n",
    "                minD = distT\n",
    "                minE = e\n",
    "        P, Q = minE\n",
    "        E.remove( (P, Q) )\n",
    "        E.append( (P, t) )\n",
    "        E.append( (t, Q) )\n",
    "        V.append(t)\n",
    "    return V, E"
   ]
  },
  {
   "cell_type": "markdown",
   "id": "10fc5d31-0db4-48a5-9fd5-462eefe0bf00",
   "metadata": {},
   "source": [
    "## Generate Warehouse Location"
   ]
  },
  {
   "cell_type": "markdown",
   "id": "1c2e0688-e062-4bb0-b7d1-f22a1aaf867c",
   "metadata": {},
   "source": [
    "This is a blind random generation as it would be needed for a Monte-Carlo Optimisation.\n",
    "You may improve this algorithm to reduce the search space."
   ]
  },
  {
   "cell_type": "code",
   "execution_count": 10,
   "id": "764fce25-3c5b-488e-ba10-6c2e0ee6e40e",
   "metadata": {},
   "outputs": [],
   "source": [
    "def generateWarehouseLocation(M):\n",
    "    V, _ = M\n",
    "    W = random.sample(V, k=1)[0]\n",
    "    return W"
   ]
  },
  {
   "cell_type": "markdown",
   "id": "213eeb49",
   "metadata": {
    "heading_collapsed": true
   },
   "source": [
    "# Load Pickled Sample Data"
   ]
  },
  {
   "cell_type": "code",
   "execution_count": 11,
   "id": "e9a2925e",
   "metadata": {
    "ExecuteTime": {
     "end_time": "2023-03-29T18:45:49.375069Z",
     "start_time": "2023-03-29T18:45:49.372117Z"
    },
    "hidden": true
   },
   "outputs": [],
   "source": [
    "import pickle\n",
    "with open('data.pickled', 'rb') as f:\n",
    "    M, C = pickle.load(f)"
   ]
  },
  {
   "cell_type": "code",
   "execution_count": 12,
   "id": "7366db66-effe-4047-b346-6a3df68696af",
   "metadata": {},
   "outputs": [],
   "source": [
    "random.seed(6077)\n",
    "W = generateWarehouseLocation(M)"
   ]
  },
  {
   "cell_type": "code",
   "execution_count": 32,
   "id": "790baa20",
   "metadata": {
    "ExecuteTime": {
     "end_time": "2023-03-29T18:45:49.459537Z",
     "start_time": "2023-03-29T18:45:49.406804Z"
    },
    "hidden": true
   },
   "outputs": [
    {
     "data": {
      "image/png": "[encoded data removed]",
      "text/plain": [
       "<Figure size 600x600 with 1 Axes>"
      ]
     },
     "metadata": {},
     "output_type": "display_data"
    }
   ],
   "source": [
    "plotMap(M, T=C, P=[], W=W, text=\"seed=6077\")"
   ]
  },
  {
   "cell_type": "markdown",
   "id": "be4b24ef",
   "metadata": {
    "jp-MarkdownHeadingCollapsed": true
   },
   "source": [
    "# Finding the Shortest Past"
   ]
  },
  {
   "cell_type": "markdown",
   "id": "55009070",
   "metadata": {},
   "source": [
    "## The Algorithm"
   ]
  },
  {
   "cell_type": "markdown",
   "id": "192e46b9",
   "metadata": {},
   "source": [
    "This is the $A^{*}$ algorithm introduced in Week 3."
   ]
  },
  {
   "cell_type": "code",
   "execution_count": 33,
   "id": "32ec53e7",
   "metadata": {
    "ExecuteTime": {
     "end_time": "2023-03-29T18:45:49.465889Z",
     "start_time": "2023-03-29T18:45:49.463774Z"
    }
   },
   "outputs": [],
   "source": [
    "def pathLength(P):\n",
    "    return 0 if len(P)<=1 else \\\n",
    "            dist(P[0], P[1])+pathLength(P[1:])"
   ]
  },
  {
   "cell_type": "code",
   "execution_count": 34,
   "id": "a442dd19",
   "metadata": {
    "ExecuteTime": {
     "end_time": "2023-03-29T18:45:49.470600Z",
     "start_time": "2023-03-29T18:45:49.466796Z"
    }
   },
   "outputs": [],
   "source": [
    "def shortestPath(M, A, B):\n",
    "\n",
    "    def h(p): \n",
    "        return pathLength(p)+dist(p[-1],B)\n",
    "    \n",
    "    # candidates C are pairs of the path so far and \n",
    "    # the heuristic function of that path, \n",
    "    # sorted by the heuristic function, as maintained by\n",
    "    # insert function\n",
    "    def insert(C, p):\n",
    "        hp = h(p)\n",
    "        c = (p, hp)\n",
    "        for i in range(len(C)):\n",
    "            if C[i][1]>hp:\n",
    "                return C[:i]+[c]+C[i:]\n",
    "        return C+[c]   \n",
    "        \n",
    "    V, E = M\n",
    "    assert(A in V and B in V)    \n",
    "    C = insert([], [A])\n",
    "\n",
    "    while len(C)>0:\n",
    "        # take the first candidate out of the list of candidates\n",
    "        path, _ = C[0]\n",
    "        C = C[1:]\n",
    "        if path[-1]==B:\n",
    "            return path\n",
    "        else:\n",
    "            for (x, y) in E:\n",
    "                if path[-1]==x and y not in path:\n",
    "                    C = insert(C, path+[y])\n",
    "                elif path[-1]==y and x not in path:\n",
    "                    C = insert(C, path+[x])\n",
    "    return None"
   ]
  },
  {
   "cell_type": "markdown",
   "id": "e9067321",
   "metadata": {},
   "source": [
    "## Testing"
   ]
  },
  {
   "cell_type": "code",
   "execution_count": 35,
   "id": "07a13913",
   "metadata": {
    "ExecuteTime": {
     "end_time": "2023-03-29T18:45:49.473735Z",
     "start_time": "2023-03-29T18:45:49.471584Z"
    }
   },
   "outputs": [],
   "source": [
    "A = C[0]\n",
    "B = C[-1]"
   ]
  },
  {
   "cell_type": "code",
   "execution_count": 36,
   "id": "24c41b93-9b99-48b1-a027-6a3c4be18a02",
   "metadata": {},
   "outputs": [],
   "source": [
    "MAB = addTargets(M, [A, B])"
   ]
  },
  {
   "cell_type": "code",
   "execution_count": 37,
   "id": "fc778c29-8bb8-44de-b8b2-c9f7bd24dc8d",
   "metadata": {},
   "outputs": [
    {
     "data": {
      "image/png": "[encoded data removed]",
      "text/plain": [
       "<Figure size 600x600 with 1 Axes>"
      ]
     },
     "metadata": {},
     "output_type": "display_data"
    }
   ],
   "source": [
    "plotMap(MAB, T=[A, B])"
   ]
  },
  {
   "cell_type": "code",
   "execution_count": 19,
   "id": "5d3a96f6",
   "metadata": {
    "ExecuteTime": {
     "end_time": "2023-03-29T18:45:49.508122Z",
     "start_time": "2023-03-29T18:45:49.506163Z"
    }
   },
   "outputs": [],
   "source": [
    "P = shortestPath(MAB, A, B)"
   ]
  },
  {
   "cell_type": "code",
   "execution_count": 20,
   "id": "0653877a",
   "metadata": {
    "ExecuteTime": {
     "end_time": "2023-03-29T18:45:49.511694Z",
     "start_time": "2023-03-29T18:45:49.509223Z"
    }
   },
   "outputs": [
    {
     "data": {
      "text/plain": [
       "[(640, 3266),\n",
       " (640, 2880),\n",
       " (1200, 2320),\n",
       " (1760, 2320),\n",
       " (2320, 2320),\n",
       " (2880, 2320),\n",
       " (3440, 2880),\n",
       " (4000, 2880),\n",
       " (4560, 2880),\n",
       " (5120, 2880),\n",
       " (5680, 2880),\n",
       " (6240, 2880),\n",
       " (6240, 3440),\n",
       " (6800, 3440),\n",
       " (7360, 3440),\n",
       " (7360, 3821)]"
      ]
     },
     "execution_count": 20,
     "metadata": {},
     "output_type": "execute_result"
    }
   ],
   "source": [
    "P"
   ]
  },
  {
   "cell_type": "code",
   "execution_count": 21,
   "id": "d422d342",
   "metadata": {
    "ExecuteTime": {
     "end_time": "2023-03-29T18:45:49.515066Z",
     "start_time": "2023-03-29T18:45:49.512651Z"
    }
   },
   "outputs": [
    {
     "data": {
      "text/plain": [
       "8509"
      ]
     },
     "execution_count": 21,
     "metadata": {},
     "output_type": "execute_result"
    }
   ],
   "source": [
    "pathLength(P)"
   ]
  },
  {
   "cell_type": "code",
   "execution_count": 22,
   "id": "31be4122",
   "metadata": {
    "ExecuteTime": {
     "end_time": "2023-03-29T18:45:49.550004Z",
     "start_time": "2023-03-29T18:45:49.516111Z"
    }
   },
   "outputs": [
    {
     "data": {
      "image/png": "[encoded data removed]",
      "text/plain": [
       "<Figure size 600x600 with 1 Axes>"
      ]
     },
     "metadata": {},
     "output_type": "display_data"
    }
   ],
   "source": [
    "plotMap(MAB, T=[A, B], P=P)"
   ]
  },
  {
   "cell_type": "markdown",
   "id": "8aee29c0",
   "metadata": {},
   "source": [
    "# Finding Shortest Delivery Route"
   ]
  },
  {
   "cell_type": "markdown",
   "id": "644eb7af",
   "metadata": {},
   "source": [
    "## Iterative Integer Programming"
   ]
  },
  {
   "cell_type": "code",
   "execution_count": 38,
   "id": "9297d9aa",
   "metadata": {
    "ExecuteTime": {
     "end_time": "2023-03-29T18:45:49.773448Z",
     "start_time": "2023-03-29T18:45:49.725887Z"
    }
   },
   "outputs": [],
   "source": [
    "def createTables(M, T):\n",
    "\n",
    "    def reverse(P):\n",
    "        return [ P[-i] for i in range(1,len(P)+1) ]\n",
    "    \n",
    "    def index(x, L):\n",
    "        for i in range(len(L)):\n",
    "            if x==L[i]: \n",
    "                return i\n",
    "        return None\n",
    "\n",
    "    n = len(T)\n",
    "    d = [ [ math.inf for t in T ] for t in T ]\n",
    "    p = [ [ None for t in T ] for t in T ]\n",
    "    for i in range(n):\n",
    "        d[i][i] = 0\n",
    "        p[i][i] = [ T[i] ]\n",
    "    for i in range(n):\n",
    "        for j in range(n):\n",
    "            if p[i][j] is None:\n",
    "                s = shortestPath(M, T[i], T[j])\n",
    "                d[i][j] = d[j][i] = pathLength(s)\n",
    "                p[i][j] = s\n",
    "                p[j][i] = reverse(s)\n",
    "                for m in range(len(s)-1):\n",
    "                    smi = index(s[m], T)\n",
    "                    if smi is None:\n",
    "                        continue\n",
    "                    for l in range(m+1, len(s)):\n",
    "                        sli = index(s[l], T)\n",
    "                        if sli is None:\n",
    "                            continue  \n",
    "                        sub = s[m:l+1]\n",
    "                        if p[smi][sli] is None:\n",
    "                            p[smi][sli] = sub\n",
    "                            p[sli][smi] = reverse(sub)\n",
    "                            d[smi][sli] = d[sli][smi] = pathLength(sub)\n",
    "    return d,p               "
   ]
  },
  {
   "cell_type": "code",
   "execution_count": 39,
   "id": "6a50f893-7fde-4fb3-a043-60978aebf21a",
   "metadata": {},
   "outputs": [],
   "source": [
    "def roundtrips(x, n):\n",
    "    \n",
    "    def isElem(x, l):\n",
    "        for i in range(len(l)):\n",
    "            if l[i]==x:\n",
    "                return True\n",
    "        return False\n",
    "\n",
    "    def startpoint(trips):\n",
    "        for i in range(n):\n",
    "            for t in trips:\n",
    "                if isElem(i, t):\n",
    "                    break\n",
    "            else:\n",
    "                return i\n",
    "    \n",
    "    def totalLength(trips):\n",
    "        s=0\n",
    "        for i in range(0, len(trips)):\n",
    "            s += len(trips[i])-1\n",
    "        return s\n",
    "\n",
    "    trips = []\n",
    "    while totalLength(trips)<n:\n",
    "        start = startpoint(trips)\n",
    "        trip = [ start ]\n",
    "        i = start\n",
    "        while len(trip) < n-totalLength(trips):\n",
    "            for j in range(0, n):\n",
    "                if pulp.value(x[i][j])==1:\n",
    "                    trip.append(j)\n",
    "                    i=j\n",
    "                    break        \n",
    "            if pulp.value(x[trip[-1]][start])==1:\n",
    "                trip.append(start)\n",
    "                break\n",
    "        trips.append(trip)\n",
    "    return sorted(trips, key=lambda t: len(t), reverse=True)"
   ]
  },
  {
   "cell_type": "code",
   "execution_count": 40,
   "id": "db1dfcf1",
   "metadata": {
    "ExecuteTime": {
     "end_time": "2023-03-29T18:45:49.782557Z",
     "start_time": "2023-03-29T18:45:49.774597Z"
    }
   },
   "outputs": [],
   "source": [
    "import time\n",
    "\n",
    "def createLoop(M, T, timing=False):\n",
    "    \n",
    "    if timing:\n",
    "        start_time = last_time = time.time()\n",
    "        \n",
    "    D, P = createTables(M, T)   # These are the distances between customers and warehouse only\n",
    "    \n",
    "    if timing:\n",
    "        print(f\"createTables:   {time.time()-start_time:6.2f}s\")\n",
    "        last_time = time.time()\n",
    "        \n",
    "    n = len(T)\n",
    "    # create variables\n",
    "    x = pulp.LpVariable.dicts(\"x\", ( range(n), range(n) ),\n",
    "                            lowBound=0, upBound=1, cat=pulp.LpInteger)\n",
    "    # create problem\n",
    "    prob = pulp.LpProblem(\"Loop\",pulp.LpMinimize)\n",
    "    # add objective function\n",
    "    prob += pulp.lpSum([ D[i][j]*x[i][j] \n",
    "                             for i in range(n) for j in range(n) ])\n",
    "    # add constraints\n",
    "    constraints=0\n",
    "    for j in range(n):\n",
    "        prob += pulp.lpSum([ x[i][j] for i in range(n) if i!=j ]) ==1\n",
    "    constraints += n\n",
    "    for i in range(n):\n",
    "        prob += pulp.lpSum([ x[i][j] for j in range(n) if i!=j ]) ==1\n",
    "    constraints += n\n",
    "    for i in range(n):\n",
    "        for j in range(n):\n",
    "            if i!=j:\n",
    "                prob += x[i][j]+x[j][i] <= 1\n",
    "                constraints += 1\n",
    "    # initialise solver\n",
    "    solvers = pulp.listSolvers(onlyAvailable=True)\n",
    "    solver = pulp.getSolver(solvers[0], msg=0)\n",
    "    prob.solve(solver)\n",
    "\n",
    "    if timing:\n",
    "        print(f\"Solver:         {time.time()-last_time:6.2f}s {constraints:6,d} Constraints\")\n",
    "        last_time = time.time()\n",
    "        \n",
    "    trips = roundtrips(x, n)\n",
    "    while len(trips)>1:\n",
    "        longest = max([ len(t) for t in trips ])\n",
    "        for t in trips:\n",
    "            if len(t)<longest:\n",
    "                prob += pulp.lpSum([ x[t[i]][t[i+1]] + x[t[i+1]][t[i]]\n",
    "                                        for i in range(0,len(t)-1) ]) <= len(t)-2\n",
    "                constraints += 1\n",
    "            else:\n",
    "                longest = math.inf\n",
    "        prob.solve(solver)\n",
    "        \n",
    "        if timing:\n",
    "            print(f\"Solver:         {time.time()-last_time:6.2f}s {constraints:6,d} Constraints\")\n",
    "            last_time = time.time()\n",
    "\n",
    "        trips = roundtrips(x, n)\n",
    "    trip = trips[0]\n",
    "    # print(trip)\n",
    "    loop = []\n",
    "    for k in range(len(trip)-1):\n",
    "        sub = P[trip[k]][trip[k+1]]\n",
    "        loop += sub if len(loop)==0 else sub[1:]\n",
    "        \n",
    "    if timing:\n",
    "        print(f\"createLoop:     {time.time()-start_time:6.2f}s\")\n",
    "\n",
    "    return loop"
   ]
  },
  {
   "cell_type": "markdown",
   "id": "594c78e7-04ab-4944-b59b-be86cb6a263b",
   "metadata": {},
   "source": [
    "## Heuristic Solution"
   ]
  },
  {
   "cell_type": "code",
   "execution_count": 41,
   "id": "58dc8c03-2005-4be1-9e0f-28b1efddf1c6",
   "metadata": {},
   "outputs": [],
   "source": [
    "def FW(M):\n",
    "    \n",
    "    V, E = M\n",
    "\n",
    "    n = len(V)\n",
    "    d = [ [ math.inf for j in range(n) ] for i in range(n) ]\n",
    "    p = [ [ None for j in range(n) ] for i in range(n) ]\n",
    "\n",
    "    for (A, B) in E:\n",
    "        a = V.index(A)\n",
    "        b = V.index(B)\n",
    "        d[a][b] = d[b][a] = dist(A, B)\n",
    "        p[a][b] = [A, B]\n",
    "        p[b][a] = [B, A]\n",
    "    \n",
    "    for i in range(n):\n",
    "        d[i][i] = 0\n",
    "        p[i][i] = [V[i]]\n",
    "    \n",
    "    for k in range(n):\n",
    "        for i in range(n):\n",
    "            for j in range(n):\n",
    "                dk = d[i][k] + d[k][j]\n",
    "                if d[i][j] > dk:\n",
    "                    d[i][j] = dk\n",
    "                    p[i][j] = p[i][k][:-1] + p[k][j]\n",
    "                    \n",
    "    return d, p"
   ]
  },
  {
   "cell_type": "markdown",
   "id": "bb750c7f-8d37-4f02-aec3-e2caec2cecf6",
   "metadata": {},
   "source": [
    "### Greedy Algorithm"
   ]
  },
  {
   "cell_type": "code",
   "execution_count": 42,
   "id": "1925ea24-6cd1-44c2-8e3d-9215ca1a3130",
   "metadata": {},
   "outputs": [],
   "source": [
    "def createLoopG(M, T, plot=False, timing=False):\n",
    "    \n",
    "    def makeLoop(L):\n",
    "        loop = []\n",
    "        for i in range(len(L)-1):\n",
    "            A = L[i]\n",
    "            B = L[i+1]\n",
    "            a = V.index(A)\n",
    "            b = V.index(B)\n",
    "            sub = P[a][b]\n",
    "            loop += sub if len(loop)==0 else sub[1:]\n",
    "        return loop\n",
    "\n",
    "    if timing:\n",
    "        start_time = time.time()\n",
    "        \n",
    "    V, E = M\n",
    "    D, P = FW(M)   # note these are the distances between all vertices in M (and T)\n",
    "    \n",
    "    if timing:\n",
    "        print(f\"Floyd-Warshall: {time.time()-start_time:6.2f}s\")\n",
    "        \n",
    "    W = T[0]\n",
    "    customers = T[1:]\n",
    "    if len(T)==1:\n",
    "        L = T\n",
    "    elif len(T)<=3:\n",
    "        L = T + [T[0]]\n",
    "    else:\n",
    "        L = T[:3]+[T[0]]\n",
    "        T = T[3:]\n",
    "        while len(T)>0:\n",
    "            if plot:\n",
    "                loop = makeLoop(L)\n",
    "                plotMap(M, T=L, P=loop, w=W, \n",
    "                        grid=True, text=f\"{pathLength(loop):,d}m\")\n",
    "            minExt = math.inf\n",
    "            minInd = None\n",
    "            selInd = None\n",
    "            for k in range(len(T)):\n",
    "                C = T[k]\n",
    "                c = V.index(C)\n",
    "                for i in range(0, len(L)-1):\n",
    "                    A = L[i]\n",
    "                    B = L[i+1]\n",
    "                    a = V.index(A)\n",
    "                    b = V.index(B)\n",
    "                    ext = D[a][c] + D[c][b] - D[a][b]\n",
    "                    if ext<minExt:\n",
    "                        minExt, minInd, selInd = ext, i+1, k\n",
    "            L = L[:minInd]+[T[selInd]]+L[minInd:]\n",
    "            T = T[:selInd]+T[selInd+1:]\n",
    "            \n",
    "    if timing:\n",
    "        print(f\"createLoopG:    {time.time()-start_time:6.2f}s\")\n",
    "        \n",
    "    return makeLoop(L)"
   ]
  },
  {
   "cell_type": "markdown",
   "id": "8f18c62f-0075-441a-b856-f185f1f3afd8",
   "metadata": {},
   "source": [
    "### Heuristic Algorithm"
   ]
  },
  {
   "cell_type": "markdown",
   "id": "ee896ab2-31b0-4e6d-a067-386ea28f4d84",
   "metadata": {},
   "source": [
    "This is only the skeleton of the code, i.e. identical to the greedy algorithm given above.\n",
    "Your task is now to look at the application of the heuristic rules 2 and 3 from week O3, and \n",
    "to transsfer the code to improve the quality of the solution."
   ]
  },
  {
   "cell_type": "markdown",
   "id": "ac147a38-00a2-4c8c-be5f-019f28a40c8f",
   "metadata": {},
   "source": [
    "Rule 2:"
   ]
  },
  {
   "cell_type": "markdown",
   "id": "1c4a8ea0-1986-472f-80a2-6c81a4b85f4c",
   "metadata": {},
   "source": [
    "<img src='Rule2.png' width='50%'/>"
   ]
  },
  {
   "cell_type": "markdown",
   "id": "21cbd32a-ac2b-4d2b-9664-b7e074e32337",
   "metadata": {},
   "source": [
    "Rule 3:"
   ]
  },
  {
   "cell_type": "markdown",
   "id": "27ea1927-22b4-4c46-9c65-3dc8823df807",
   "metadata": {},
   "source": [
    "<img src='Rule3.png' width='50%'/>"
   ]
  },
  {
   "cell_type": "code",
   "execution_count": 43,
   "id": "a50be3ae-7b17-486c-90e5-9b3b50932247",
   "metadata": {},
   "outputs": [],
   "source": [
    "def createLoopH(M, T, plot=False, timing=False):\n",
    "    \n",
    "    def makeLoop(L):\n",
    "        loop = []\n",
    "        for i in range(len(L)-1):\n",
    "            A = L[i]\n",
    "            B = L[i+1]\n",
    "            a = V.index(A)\n",
    "            b = V.index(B)\n",
    "            sub = P[a][b]\n",
    "            loop += sub if len(loop)==0 else sub[1:]\n",
    "        return loop\n",
    "\n",
    "    if timing:\n",
    "        start_time = time.time()\n",
    "        \n",
    "    V, E = M\n",
    "    D, P = FW(M)   # note these are the distances between all vertices in M (and T)\n",
    "    \n",
    "    if timing:\n",
    "        print(f\"Floyd-Warshall: {time.time()-start_time:6.2f}s\")\n",
    "        \n",
    "    W = T[0]\n",
    "    customers = T[1:]\n",
    "    if len(T)==1:\n",
    "        L = T\n",
    "    elif len(T)<=3:\n",
    "        L = T + [T[0]]\n",
    "    else:\n",
    "        L = T[:3]+[T[0]]\n",
    "        T = T[3:]\n",
    "        while len(T)>0:\n",
    "            if plot:\n",
    "                loop = makeLoop(L)\n",
    "                plotMap(M, T=L, P=loop, w=W, \n",
    "                        grid=True, text=f\"{pathLength(loop):,d}m\")\n",
    "            minExt = math.inf\n",
    "            minInd = None\n",
    "            selInd = None\n",
    "            for k in range(len(T)):\n",
    "                C = T[k]\n",
    "                c = V.index(C)\n",
    "                for i in range(0, len(L)-1):\n",
    "                    A = L[i]\n",
    "                    B = L[i+1]\n",
    "                    a = V.index(A)\n",
    "                    b = V.index(B)\n",
    "                    ext = D[a][c] + D[c][b] - D[a][b]\n",
    "                    if ext<minExt:\n",
    "                        minExt, minInd, selInd = ext, i+1, k\n",
    "            L = L[:minInd]+[T[selInd]]+L[minInd:]\n",
    "            T = T[:selInd]+T[selInd+1:]\n",
    "            \n",
    "    if timing:\n",
    "        print(f\"createLoopH:    {time.time()-start_time:6.2f}s\")\n",
    "        \n",
    "    return makeLoop(L)"
   ]
  },
  {
   "cell_type": "markdown",
   "id": "e9610dea",
   "metadata": {},
   "source": [
    "## Testing"
   ]
  },
  {
   "cell_type": "code",
   "execution_count": 29,
   "id": "544eb3a9-19df-4a01-9b94-0dab946ad857",
   "metadata": {},
   "outputs": [],
   "source": [
    "import pickle\n",
    "with open('data.pickled', 'rb') as f:\n",
    "    M, C = pickle.load(f)"
   ]
  },
  {
   "cell_type": "code",
   "execution_count": 30,
   "id": "60161284-9a2e-424b-b18a-c676ef6366c3",
   "metadata": {},
   "outputs": [],
   "source": [
    "random.seed(6077)\n",
    "W = generateWarehouseLocation(M)"
   ]
  },
  {
   "cell_type": "code",
   "execution_count": 26,
   "id": "3024cb2c-4491-4bce-a37b-2fb1c3cb50c3",
   "metadata": {},
   "outputs": [
    {
     "data": {
      "image/png": "[encoded data removed]",
      "text/plain": [
       "<Figure size 600x600 with 1 Axes>"
      ]
     },
     "metadata": {},
     "output_type": "display_data"
    }
   ],
   "source": [
    "plotMap(M, T=C, P=[], W=W, text=\"data\")"
   ]
  },
  {
   "cell_type": "markdown",
   "id": "171024ee-aa9c-40ea-ab5f-41b53279421e",
   "metadata": {},
   "source": [
    "### Delivery to 10 Customers"
   ]
  },
  {
   "cell_type": "code",
   "execution_count": 27,
   "id": "26f434f1",
   "metadata": {
    "ExecuteTime": {
     "end_time": "2023-03-29T18:47:54.250913Z",
     "start_time": "2023-03-29T18:47:54.247639Z"
    }
   },
   "outputs": [],
   "source": [
    "random.seed(6077)\n",
    "T = random.sample(C, k=len(C)//2)"
   ]
  },
  {
   "cell_type": "code",
   "execution_count": 28,
   "id": "2641826d-cba8-4eba-aef2-a465a7074f4f",
   "metadata": {},
   "outputs": [],
   "source": [
    "MC = addTargets(M, T)"
   ]
  },
  {
   "cell_type": "code",
   "execution_count": 29,
   "id": "beee0a1d",
   "metadata": {
    "ExecuteTime": {
     "end_time": "2023-03-29T18:47:54.988584Z",
     "start_time": "2023-03-29T18:47:54.880699Z"
    }
   },
   "outputs": [],
   "source": [
    "P = createLoop(MC, [W]+T)"
   ]
  },
  {
   "cell_type": "code",
   "execution_count": 30,
   "id": "cb42f978-5b90-40c7-aaaa-bcb553eb6e08",
   "metadata": {},
   "outputs": [],
   "source": [
    "PG = createLoopG(MC, [W]+T)"
   ]
  },
  {
   "cell_type": "code",
   "execution_count": 31,
   "id": "97d568a2-a310-4b81-b81f-e973286b2ff1",
   "metadata": {},
   "outputs": [],
   "source": [
    "PH = createLoopH(MC, [W]+T)"
   ]
  },
  {
   "cell_type": "code",
   "execution_count": 32,
   "id": "703e01a7-fe4b-4e81-989a-edaa81a78615",
   "metadata": {},
   "outputs": [
    {
     "data": {
      "text/plain": [
       "(5120, 6800)"
      ]
     },
     "execution_count": 32,
     "metadata": {},
     "output_type": "execute_result"
    }
   ],
   "source": [
    "W"
   ]
  },
  {
   "cell_type": "code",
   "execution_count": 33,
   "id": "1d4ce9b2-34de-4988-bf05-47e042c0ff6a",
   "metadata": {},
   "outputs": [
    {
     "data": {
      "text/plain": [
       "[(5120, 6800),\n",
       " (4560, 6800),\n",
       " (4560, 6599),\n",
       " (4560, 6240),\n",
       " (4306, 6240),\n",
       " (4000, 6240),\n",
       " (4000, 6539),\n",
       " (4000, 6800),\n",
       " (3801, 6800),\n",
       " (3440, 6800),\n",
       " (3440, 7071),\n",
       " (3440, 7360),\n",
       " (3571, 7360),\n",
       " (3440, 7360),\n",
       " (3440, 7071),\n",
       " (3440, 6800),\n",
       " (3200, 6800),\n",
       " (2880, 6800),\n",
       " (2622, 6800),\n",
       " (2449, 6800),\n",
       " (2622, 6800),\n",
       " (2880, 6800),\n",
       " (2880, 6240),\n",
       " (3440, 5680),\n",
       " (3676, 5680),\n",
       " (3779, 5680),\n",
       " (4000, 5680),\n",
       " (4172, 5680),\n",
       " (4560, 5680),\n",
       " (4560, 5354),\n",
       " (4560, 5120),\n",
       " (4780, 5120),\n",
       " (4560, 5120),\n",
       " (4560, 4916),\n",
       " (4560, 4560),\n",
       " (4238, 4560),\n",
       " (4000, 4560),\n",
       " (4000, 4787),\n",
       " (4000, 5120),\n",
       " (3817, 5120),\n",
       " (3440, 5120),\n",
       " (3289, 4969),\n",
       " (3102, 4782),\n",
       " (2964, 4644),\n",
       " (2880, 4560),\n",
       " (2880, 4000),\n",
       " (3212, 4000),\n",
       " (3440, 4000),\n",
       " (3440, 3617),\n",
       " (3440, 3440),\n",
       " (3642, 3440),\n",
       " (3748, 3440),\n",
       " (4000, 3440),\n",
       " (4000, 3677),\n",
       " (4000, 3440),\n",
       " (4000, 3201),\n",
       " (4000, 3062),\n",
       " (4000, 2880),\n",
       " (3700, 2880),\n",
       " (3440, 2880),\n",
       " (3122, 2562),\n",
       " (2880, 2320),\n",
       " (3047, 2152),\n",
       " (2880, 2320),\n",
       " (2570, 2320),\n",
       " (2320, 2320),\n",
       " (2320, 2880),\n",
       " (2320, 3195),\n",
       " (2320, 3440),\n",
       " (2559, 3440),\n",
       " (2880, 3440),\n",
       " (2880, 3721),\n",
       " (2880, 4000),\n",
       " (2659, 4000),\n",
       " (2561, 4000),\n",
       " (2320, 4000),\n",
       " (2172, 4147),\n",
       " (1932, 4387),\n",
       " (1760, 4560),\n",
       " (1760, 4843),\n",
       " (1760, 5120),\n",
       " (1760, 5680),\n",
       " (1200, 5680),\n",
       " (941, 5680),\n",
       " (640, 5680),\n",
       " (640, 5120),\n",
       " (1200, 4560),\n",
       " (640, 4000),\n",
       " (640, 3855),\n",
       " (640, 3630),\n",
       " (640, 3440),\n",
       " (640, 2880),\n",
       " (815, 2704),\n",
       " (1200, 2320),\n",
       " (1444, 2320),\n",
       " (1200, 2320),\n",
       " (1200, 1760),\n",
       " (1760, 1200),\n",
       " (1958, 1398),\n",
       " (1760, 1200),\n",
       " (2083, 876),\n",
       " (2320, 640),\n",
       " (2542, 640),\n",
       " (2880, 640),\n",
       " (2880, 1200),\n",
       " (3440, 1200),\n",
       " (4000, 1200),\n",
       " (4000, 838),\n",
       " (4000, 1200),\n",
       " (4225, 1200),\n",
       " (4560, 1200),\n",
       " (4560, 1297),\n",
       " (4560, 1200),\n",
       " (4753, 1200),\n",
       " (5120, 1200),\n",
       " (5120, 1574),\n",
       " (5120, 1760),\n",
       " (5369, 1760),\n",
       " (5120, 1760),\n",
       " (4800, 1760),\n",
       " (4560, 1760),\n",
       " (4560, 2115),\n",
       " (4560, 2320),\n",
       " (4560, 2551),\n",
       " (4560, 2880),\n",
       " (5120, 2880),\n",
       " (5120, 3083),\n",
       " (5120, 2880),\n",
       " (5680, 2880),\n",
       " (5680, 2571),\n",
       " (5680, 2320),\n",
       " (5680, 1760),\n",
       " (5874, 1760),\n",
       " (6044, 1760),\n",
       " (6240, 1760),\n",
       " (6240, 1553),\n",
       " (6240, 1760),\n",
       " (6240, 1967),\n",
       " (6240, 2320),\n",
       " (6240, 2522),\n",
       " (6240, 2880),\n",
       " (6240, 3198),\n",
       " (6240, 3440),\n",
       " (6800, 3440),\n",
       " (7004, 3440),\n",
       " (7360, 3440),\n",
       " (7360, 4000),\n",
       " (7184, 4000),\n",
       " (6800, 4000),\n",
       " (6800, 4220),\n",
       " (6800, 4560),\n",
       " (6240, 4560),\n",
       " (6240, 5120),\n",
       " (6408, 5288),\n",
       " (6530, 5410),\n",
       " (6800, 5680),\n",
       " (6800, 6110),\n",
       " (6800, 6240),\n",
       " (6240, 6240),\n",
       " (6240, 6433),\n",
       " (6240, 6800),\n",
       " (5680, 6800),\n",
       " (5680, 6993),\n",
       " (5680, 7360),\n",
       " (5508, 7360),\n",
       " (5120, 7360),\n",
       " (5120, 6800),\n",
       " (5120, 6625),\n",
       " (5120, 6800)]"
      ]
     },
     "execution_count": 33,
     "metadata": {},
     "output_type": "execute_result"
    }
   ],
   "source": [
    "P"
   ]
  },
  {
   "cell_type": "code",
   "execution_count": 34,
   "id": "881b15fb",
   "metadata": {
    "ExecuteTime": {
     "end_time": "2023-03-29T18:48:40.764533Z",
     "start_time": "2023-03-29T18:48:40.696234Z"
    }
   },
   "outputs": [
    {
     "data": {
      "image/png": "[encoded data removed]",
      "text/plain": [
       "<Figure size 600x600 with 1 Axes>"
      ]
     },
     "metadata": {},
     "output_type": "display_data"
    }
   ],
   "source": [
    "plotMap(MC, T=T, W=W, P=P, text=f\"Path Length={pathLength(P):3,d}m\")"
   ]
  },
  {
   "cell_type": "code",
   "execution_count": 35,
   "id": "7560b1cb-eda3-4ce9-8098-22e8156349d8",
   "metadata": {},
   "outputs": [
    {
     "data": {
      "image/png": "[encoded data removed]",
      "text/plain": [
       "<Figure size 600x600 with 1 Axes>"
      ]
     },
     "metadata": {},
     "output_type": "display_data"
    }
   ],
   "source": [
    "plotMap(MC, T=T, W=W, P=PG, text=f\"Greedy Path Length={pathLength(PG):3,d}m\")"
   ]
  },
  {
   "cell_type": "code",
   "execution_count": 36,
   "id": "d22191e9-3d91-43e8-a389-9308d2f9d7b2",
   "metadata": {},
   "outputs": [
    {
     "data": {
      "image/png": "[encoded data removed]",
      "text/plain": [
       "<Figure size 600x600 with 1 Axes>"
      ]
     },
     "metadata": {},
     "output_type": "display_data"
    }
   ],
   "source": [
    "plotMap(MC, T=T, W=W, P=PH, text=f\"Heuristic Path Length={pathLength(PH):3,d}m\")"
   ]
  },
  {
   "cell_type": "code",
   "execution_count": 37,
   "id": "37ba71f1-0ede-429e-a92e-4aa1fbc7c052",
   "metadata": {},
   "outputs": [],
   "source": [
    "PH.reverse()"
   ]
  },
  {
   "cell_type": "code",
   "execution_count": 38,
   "id": "4057f187-8731-4adc-9370-c84eca0f5b2b",
   "metadata": {},
   "outputs": [
    {
     "data": {
      "text/plain": [
       "False"
      ]
     },
     "execution_count": 38,
     "metadata": {},
     "output_type": "execute_result"
    }
   ],
   "source": [
    "P == PH"
   ]
  },
  {
   "cell_type": "markdown",
   "id": "14b59edb",
   "metadata": {},
   "source": [
    "### Delivering to all Customers"
   ]
  },
  {
   "cell_type": "code",
   "execution_count": null,
   "id": "5c2280c7",
   "metadata": {
    "ExecuteTime": {
     "end_time": "2023-03-29T18:50:26.505880Z",
     "start_time": "2023-03-29T18:50:26.502626Z"
    }
   },
   "outputs": [],
   "source": [
    "T = C"
   ]
  },
  {
   "cell_type": "code",
   "execution_count": 40,
   "id": "17372a91-f377-4855-99a4-652ef03de9cc",
   "metadata": {},
   "outputs": [],
   "source": [
    "MC = addTargets(M, T)"
   ]
  },
  {
   "cell_type": "code",
   "execution_count": null,
   "id": "b4b7c3b9",
   "metadata": {
    "ExecuteTime": {
     "end_time": "2023-03-29T18:50:27.606673Z",
     "start_time": "2023-03-29T18:50:27.384536Z"
    }
   },
   "outputs": [],
   "source": [
    "PC = createLoop(MC, [W] + T)"
   ]
  },
  {
   "cell_type": "code",
   "execution_count": null,
   "id": "bfefb367-20a3-4835-bebb-e354695cd201",
   "metadata": {},
   "outputs": [],
   "source": [
    "PCG = createLoopG(MC, [W]+T)"
   ]
  },
  {
   "cell_type": "code",
   "execution_count": null,
   "id": "01ac5f68-40e3-4fe7-bd42-9ef444390441",
   "metadata": {},
   "outputs": [],
   "source": [
    "PCH = createLoopH(MC, [W]+T)"
   ]
  },
  {
   "cell_type": "code",
   "execution_count": null,
   "id": "28eafbd7",
   "metadata": {
    "ExecuteTime": {
     "end_time": "2023-03-29T18:50:29.142972Z",
     "start_time": "2023-03-29T18:50:29.070898Z"
    }
   },
   "outputs": [],
   "source": [
    "plotMap(MC, T=T, W=W, P=PC, text=f\"Path Length={pathLength(PC):3,d}m\")"
   ]
  },
  {
   "cell_type": "code",
   "execution_count": null,
   "id": "8cfb1065-2826-40b8-90d6-7ce3fab6ee6e",
   "metadata": {},
   "outputs": [],
   "source": [
    "plotMap(MC, T=T, W=W, P=PCG, text=f\"Greedy Path Length={pathLength(PCG):3,d}m\")"
   ]
  },
  {
   "cell_type": "code",
   "execution_count": null,
   "id": "cb6133bc-4ba8-481c-b889-2961fb91276e",
   "metadata": {},
   "outputs": [],
   "source": [
    "plotMap(MC, T=T, W=W, P=PCH, text=f\"Heuristic Path Length={pathLength(PCH):3,d}m\")"
   ]
  },
  {
   "cell_type": "markdown",
   "id": "33ba42f7-2e1e-4e93-a974-85ba8bdfd65b",
   "metadata": {},
   "source": [
    "## Running the Algorithm on Real Data"
   ]
  },
  {
   "cell_type": "code",
   "execution_count": 45,
   "id": "9df61945-15a7-4027-994b-c75a60c8ad73",
   "metadata": {},
   "outputs": [],
   "source": [
    "import pickle\n",
    "with open('data.pickled', 'rb') as f:\n",
    "    M, C = pickle.load(f)"
   ]
  },
  {
   "cell_type": "code",
   "execution_count": 46,
   "id": "89b59729-86f5-49b6-bfe0-a44429593973",
   "metadata": {},
   "outputs": [],
   "source": [
    "random.seed(6077)\n",
    "W1 = generateWarehouseLocation(M)"
   ]
  },
  {
   "cell_type": "code",
   "execution_count": 47,
   "id": "7ec6e4e7-d924-4260-a50a-0201a1b4b065",
   "metadata": {},
   "outputs": [
    {
     "data": {
      "text/plain": [
       "150"
      ]
     },
     "execution_count": 47,
     "metadata": {},
     "output_type": "execute_result"
    }
   ],
   "source": [
    "len(C)"
   ]
  },
  {
   "cell_type": "code",
   "execution_count": 48,
   "id": "0b668183-31fb-4064-a8d6-6b38019239f0",
   "metadata": {},
   "outputs": [],
   "source": [
    "random.seed(6077)\n",
    "T = random.sample(C, k=len(C)//5)"
   ]
  },
  {
   "cell_type": "code",
   "execution_count": null,
   "id": "2c4a192b-1295-4837-8050-c10f044ecd2d",
   "metadata": {},
   "outputs": [],
   "source": [
    "MT = addTargets(M, T)"
   ]
  },
  {
   "cell_type": "code",
   "execution_count": null,
   "id": "54c7159b-555e-47d2-9568-f1a156ee21c0",
   "metadata": {},
   "outputs": [],
   "source": [
    "plotMap(MT, T=T, W=W1, P=[], text=f\"seed=6077\")"
   ]
  },
  {
   "cell_type": "code",
   "execution_count": null,
   "id": "5dc44e1f-e1bf-4d5a-a5dc-15d79993869e",
   "metadata": {},
   "outputs": [],
   "source": [
    "P1 = createLoop(MT, [W1]+T, timing=True)"
   ]
  },
  {
   "cell_type": "code",
   "execution_count": null,
   "id": "97fea40e-9b84-4b33-b936-faa35a03ac66",
   "metadata": {},
   "outputs": [],
   "source": [
    "PG1 = createLoopG(MT, [W1]+T, timing=True)"
   ]
  },
  {
   "cell_type": "code",
   "execution_count": null,
   "id": "3502addf-aaae-4c13-a046-7b49b18fbee6",
   "metadata": {},
   "outputs": [],
   "source": [
    "PH1 = createLoopH(MT, [W1]+T, timing=True)"
   ]
  },
  {
   "cell_type": "code",
   "execution_count": null,
   "id": "7a803e85-579f-48ab-8b40-226e4416b113",
   "metadata": {},
   "outputs": [],
   "source": [
    "plotMap(MT, T=T, W=W1, P=P1, text=f\"Optimal Path Length={pathLength(P1):3,d}m\")"
   ]
  },
  {
   "cell_type": "code",
   "execution_count": null,
   "id": "02b386d1-1943-4f3f-8f7e-92b0541c2cd9",
   "metadata": {},
   "outputs": [],
   "source": [
    "plotMap(MT, T=T, W=W1, P=PG1, text=f\"Greedy Path Length={pathLength(PG1):3,d}m\")"
   ]
  },
  {
   "cell_type": "code",
   "execution_count": null,
   "id": "7780f2eb-b41e-48ef-8c78-456b40896eaf",
   "metadata": {},
   "outputs": [],
   "source": [
    "plotMap(MT, T=T, W=W1, P=PH1, text=f\"Heuristic Path Length={pathLength(PH1):3,d}m\")"
   ]
  },
  {
   "cell_type": "code",
   "execution_count": null,
   "id": "8f9545d4-4c15-47eb-a1a6-6e29e93dcd7c",
   "metadata": {},
   "outputs": [],
   "source": [
    "random.seed(6077)\n",
    "W2 = generateWarehouseLocation(M)"
   ]
  },
  {
   "cell_type": "code",
   "execution_count": null,
   "id": "cace21d2-58c7-46c2-9890-ddcbff8ae1f6",
   "metadata": {},
   "outputs": [],
   "source": [
    "plotMap(MT, T=T, W=W2, P=[], text=f\"seed=6077\")"
   ]
  },
  {
   "cell_type": "code",
   "execution_count": null,
   "id": "aa4384f3-7be1-4ee7-807b-ad2149e91e06",
   "metadata": {},
   "outputs": [],
   "source": [
    "P2 = createLoop(MT, [W2]+T, timing=True)"
   ]
  },
  {
   "cell_type": "code",
   "execution_count": null,
   "id": "a98c85cd-3e85-44d0-8758-d67aecb6487c",
   "metadata": {},
   "outputs": [],
   "source": [
    "PG2 = createLoopG(MT, [W2]+T, timing=True)"
   ]
  },
  {
   "cell_type": "code",
   "execution_count": null,
   "id": "bbdffa6d-7c6e-4003-a672-cfbed8334c49",
   "metadata": {},
   "outputs": [],
   "source": [
    "PH2 = createLoopH(MT, [W2]+T, timing=True)"
   ]
  },
  {
   "cell_type": "code",
   "execution_count": null,
   "id": "0170810f-882f-428c-97b3-0c573dd3ab21",
   "metadata": {},
   "outputs": [],
   "source": [
    "plotMap(MT, T=T, W=W2, P=P2, text=f\"Optimal Path Length={pathLength(P2):3,d}m\")"
   ]
  },
  {
   "cell_type": "code",
   "execution_count": null,
   "id": "29c9df92-22ac-45eb-83ee-733029fbb74e",
   "metadata": {},
   "outputs": [],
   "source": [
    "plotMap(MT, T=T, W=W2, P=PG2, text=f\"Greedy Path Length={pathLength(PG2):3,d}m\")"
   ]
  },
  {
   "cell_type": "code",
   "execution_count": null,
   "id": "25ec678f-b2be-4720-b69f-57eabfb106cf",
   "metadata": {},
   "outputs": [],
   "source": [
    "plotMap(MT, T=T, W=W2, P=PH2, text=f\"Heuristic Path Length={pathLength(PH2):3,d}m\")"
   ]
  },
  {
   "cell_type": "markdown",
   "id": "12ec915c-c1d4-4cc4-90b7-a4ebe42ef4dd",
   "metadata": {},
   "source": [
    "# Monte-Carlo Optimisation"
   ]
  },
  {
   "cell_type": "markdown",
   "id": "a3b9ac3e-9a19-4629-adb8-a7a60a5e34e1",
   "metadata": {},
   "source": [
    "This is an optimisation for the case of a fixed given number of customers to be served in one loop."
   ]
  },
  {
   "cell_type": "code",
   "execution_count": 1,
   "id": "2d2754da",
   "metadata": {},
   "outputs": [],
   "source": [
    "def generateWarehouseLocations(M, seed=None):\n",
    "    if seed is not None:\n",
    "        random.seed(seed)\n",
    "    V, _ = M\n",
    "    W = random.sample(V, k=len(V)//10)\n",
    "    return W"
   ]
  },
  {
   "cell_type": "code",
   "execution_count": 52,
   "id": "82486ccb-79c0-41e0-b889-2ff9d41712a2",
   "metadata": {},
   "outputs": [],
   "source": [
    "def monte_carlo(M, T, k=math.inf, timing=False, plot=False):\n",
    "    if timing:\n",
    "        start_time = time.time()\n",
    "    V, _ = M\n",
    "    W=generateWarehouseLocations(M,6077)\n",
    "    MT = addTargets(M, T)\n",
    "    minL, minP, minW = math.inf, None, None\n",
    "    for w in W:\n",
    "        print (w)\n",
    "        \n",
    "        P = createLoop(MT, [w]+T)\n",
    "        L = pathLength(P)\n",
    "        \n",
    "        if L<minL:\n",
    "            minL, minP, minW = L, P, w\n",
    "            print(f\"pathlength: {L:6,d}m\")\n",
    "        if timing:\n",
    "            print(f\"     iteration:  {time.time()-start_time:6.2f}s\")\n",
    "    plotMap(MT, T=T, W=minW, P=minP, text=f\"seed=6077 Path Length={minL:8.1f}m\")\n",
    "    return minW"
   ]
  },
  {
   "cell_type": "code",
   "execution_count": 53,
   "id": "5df8b5ce-d7fb-474d-a9cd-28f4631ffb00",
   "metadata": {},
   "outputs": [
    {
     "name": "stdout",
     "output_type": "stream",
     "text": [
      "(5120, 6800)\n",
      "pathlength: 39,642m\n",
      "     iteration:    3.30s\n",
      "(4000, 7360)\n",
      "     iteration:    5.68s\n",
      "(4000, 3440)\n",
      "     iteration:    8.20s\n",
      "(4560, 2320)\n",
      "     iteration:   10.72s\n",
      "(4000, 1200)\n",
      "     iteration:   13.47s\n",
      "(1200, 5680)\n",
      "     iteration:   16.44s\n",
      "(4560, 4560)\n",
      "     iteration:   19.28s\n",
      "(4000, 5680)\n",
      "     iteration:   21.99s\n",
      "(3440, 4000)\n",
      "     iteration:   24.89s\n",
      "(3440, 1760)\n",
      "     iteration:   27.40s\n"
     ]
    },
    {
     "data": {
      "image/png": "[encoded data removed]",
      "text/plain": [
       "<Figure size 600x600 with 1 Axes>"
      ]
     },
     "metadata": {},
     "output_type": "display_data"
    },
    {
     "data": {
      "text/plain": [
       "(5120, 6800)"
      ]
     },
     "execution_count": 53,
     "metadata": {},
     "output_type": "execute_result"
    }
   ],
   "source": [
    "random.seed(6077)\n",
    "monte_carlo(M, T, timing=True, plot=True)"
   ]
  },
  {
   "cell_type": "code",
   "execution_count": null,
   "id": "ce320720-b147-41d1-b8d0-81f9387e5a4e",
   "metadata": {},
   "outputs": [],
   "source": []
  }
 ],
 "metadata": {
  "kernelspec": {
   "display_name": "Python 3 (ipykernel)",
   "language": "python",
   "name": "python3"
  },
  "language_info": {
   "codemirror_mode": {
    "name": "ipython",
    "version": 3
   },
   "file_extension": ".py",
   "mimetype": "text/x-python",
   "name": "python",
   "nbconvert_exporter": "python",
   "pygments_lexer": "ipython3",
   "version": "3.11.4"
  },
  "toc": {
   "base_numbering": 1,
   "nav_menu": {},
   "number_sections": true,
   "sideBar": true,
   "skip_h1_title": false,
   "title_cell": "Table of Contents",
   "title_sidebar": "Contents",
   "toc_cell": true,
   "toc_position": {},
   "toc_section_display": true,
   "toc_window_display": false
  }
 },
 "nbformat": 4,
 "nbformat_minor": 5
}
