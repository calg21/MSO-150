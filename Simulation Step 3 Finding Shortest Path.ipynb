{
 "cells": [
  {
   "cell_type": "code",
   "execution_count": 1,
   "id": "be8aae5f",
   "metadata": {
    "ExecuteTime": {
     "end_time": "2023-03-29T17:38:26.591646Z",
     "start_time": "2023-03-29T17:38:25.017799Z"
    }
   },
   "outputs": [],
   "source": [
    "import matplotlib.pyplot as plt\n",
    "import pulp\n",
    "import math\n",
    "import random\n",
    "import numpy as np"
   ]
  },
  {
   "cell_type": "markdown",
   "id": "3cddb246",
   "metadata": {},
   "source": [
    "# Utilities (Copied from Starter File)"
   ]
  },
  {
   "cell_type": "markdown",
   "id": "0c1591c3",
   "metadata": {},
   "source": [
    "## Points and Distances"
   ]
  },
  {
   "cell_type": "code",
   "execution_count": 2,
   "id": "5fdbbc6a",
   "metadata": {
    "ExecuteTime": {
     "end_time": "2023-03-29T17:38:26.595860Z",
     "start_time": "2023-03-29T17:38:26.593725Z"
    }
   },
   "outputs": [],
   "source": [
    "def dist(p1, p2):\n",
    "    (x1, y1) = p1\n",
    "    (x2, y2) = p2\n",
    "    return int(math.sqrt((x1-x2)**2+(y1-y2)**2))"
   ]
  },
  {
   "cell_type": "markdown",
   "id": "c3084fd8",
   "metadata": {},
   "source": [
    "## PlotMap"
   ]
  },
  {
   "cell_type": "code",
   "execution_count": 3,
   "id": "678ac493",
   "metadata": {
    "ExecuteTime": {
     "end_time": "2023-03-29T17:38:26.603982Z",
     "start_time": "2023-03-29T17:38:26.597312Z"
    }
   },
   "outputs": [],
   "source": [
    "def plotMap(G, T=[], P=[], W=None,\n",
    "            style='r-o', lw=1, ms=3, \n",
    "            styleT='go', msT=5,\n",
    "            styleP='b-o', lwP=3, msP=1,\n",
    "            stylePT='go', msPT=7,\n",
    "            styleW='bo', msW=7,\n",
    "            text=None, grid=False):\n",
    "    fig = plt.gcf()\n",
    "    fig.set_size_inches(6, 6)\n",
    "    V, E = G\n",
    "\n",
    "    if not grid:\n",
    "        plt.axis('off')\n",
    "    plt.plot( [ p[0] for p in V ], [ p[1] for p in V ], 'ro', lw=lw, ms=ms)\n",
    "    for (p, q) in E:\n",
    "        plt.plot( [ p[0], q[0] ], [ p[1], q[1] ], 'r-o', lw=lw, ms=ms)\n",
    "    for t in T:\n",
    "        plt.plot( [ t[0] ], [ t[1] ], \n",
    "                  styleT, ms=msT)\n",
    "    plt.plot( [ p[0] for p in P ],\n",
    "              [ p[1] for p in P ], \n",
    "              styleP, lw=lwP, ms=msP)\n",
    "    for p in P:\n",
    "        if p in T:\n",
    "            plt.plot( [ p[0] ], [ p[1] ], \n",
    "                      stylePT, ms=msPT)\n",
    "    if W is not None:\n",
    "        plt.plot( [ W[0] ], [ W[1] ], \n",
    "                      styleW, ms=msW)\n",
    "    if text is not None:\n",
    "        maxX = max([p[0] for p in V])\n",
    "        plt.text(0.8*maxX, 0, text)\n",
    "    if grid:\n",
    "        plt.grid()\n",
    "    plt.show()"
   ]
  },
  {
   "cell_type": "markdown",
   "id": "a5c03862-76be-4411-834b-373a3e6946e2",
   "metadata": {},
   "source": [
    "## Add Targets"
   ]
  },
  {
   "cell_type": "code",
   "execution_count": 4,
   "id": "edd91ddd-196f-426f-8dde-750e50ac161b",
   "metadata": {},
   "outputs": [],
   "source": [
    "def addTargets(M, T):\n",
    "    V, E = M\n",
    "    E = E.copy()\n",
    "    V = V.copy()\n",
    "    for t in T:\n",
    "        minD = math.inf\n",
    "        minE = None\n",
    "        for e in E:\n",
    "            P, Q = e\n",
    "            distT = dist(P, t)+dist(t, Q)-dist(P, Q)\n",
    "            if distT < minD:\n",
    "                minD = distT\n",
    "                minE = e\n",
    "        P, Q = minE\n",
    "        E.remove( (P, Q) )\n",
    "        E.append( (P, t) )\n",
    "        E.append( (t, Q) )\n",
    "        V.append(t)\n",
    "    return V, E"
   ]
  },
  {
   "cell_type": "markdown",
   "id": "30017994-6e0d-46e1-8600-4d3d376e737a",
   "metadata": {},
   "source": [
    "## Generate Warehouse Location"
   ]
  },
  {
   "cell_type": "markdown",
   "id": "c95b55b7-ae9b-4783-b9f6-6eb5af70aa4e",
   "metadata": {},
   "source": [
    "This is a blind random generation as it would be needed for a Monte-Carlo Optimisation.\n",
    "You may improve this algorithm to reduce the search space."
   ]
  },
  {
   "cell_type": "code",
   "execution_count": 5,
   "id": "8c9550ea-b991-41bc-8fdb-5524b608fba8",
   "metadata": {},
   "outputs": [],
   "source": [
    "def generateWarehouseLocation(M):\n",
    "    V, _ = M\n",
    "    W = random.sample(V, k=1)[0]\n",
    "    return W"
   ]
  },
  {
   "cell_type": "markdown",
   "id": "213eeb49",
   "metadata": {},
   "source": [
    "# Load Pickled Sample Data"
   ]
  },
  {
   "cell_type": "code",
   "execution_count": 6,
   "id": "e9a2925e",
   "metadata": {
    "ExecuteTime": {
     "end_time": "2023-03-29T17:38:26.609404Z",
     "start_time": "2023-03-29T17:38:26.606360Z"
    }
   },
   "outputs": [],
   "source": [
    "import pickle\n",
    "with open('data.pickled', 'rb') as f:\n",
    "    M, C = pickle.load(f)"
   ]
  },
  {
   "cell_type": "code",
   "execution_count": 7,
   "id": "81f9c1d4-9eec-4abc-a440-643f1cd5cbf8",
   "metadata": {},
   "outputs": [],
   "source": [
    "random.seed(6077)\n",
    "W = generateWarehouseLocation(M)"
   ]
  },
  {
   "cell_type": "code",
   "execution_count": 8,
   "id": "48baab74-ed04-4d01-b1da-2e6c187a824a",
   "metadata": {},
   "outputs": [
    {
     "data": {
      "image/png": "[encoded data removed]",
      "text/plain": [
       "<Figure size 600x600 with 1 Axes>"
      ]
     },
     "metadata": {},
     "output_type": "display_data"
    }
   ],
   "source": [
    "plotMap(M, T=C, P=[], W=W, text=\"seed=6077\")"
   ]
  },
  {
   "cell_type": "markdown",
   "id": "be4b24ef",
   "metadata": {},
   "source": [
    "# Finding the Shortest Past"
   ]
  },
  {
   "cell_type": "markdown",
   "id": "55009070",
   "metadata": {},
   "source": [
    "## The Algorithm"
   ]
  },
  {
   "cell_type": "markdown",
   "id": "192e46b9",
   "metadata": {},
   "source": [
    "This is the $A^{*}$ algorithm introduced in Week 3."
   ]
  },
  {
   "cell_type": "code",
   "execution_count": 9,
   "id": "32ec53e7",
   "metadata": {
    "ExecuteTime": {
     "end_time": "2023-03-29T17:38:26.695426Z",
     "start_time": "2023-03-29T17:38:26.692946Z"
    }
   },
   "outputs": [],
   "source": [
    "def pathLength(P):\n",
    "    return 0 if len(P)<=1 else \\\n",
    "            dist(P[0], P[1])+pathLength(P[1:])"
   ]
  },
  {
   "cell_type": "code",
   "execution_count": 10,
   "id": "a442dd19",
   "metadata": {
    "ExecuteTime": {
     "end_time": "2023-03-29T17:38:26.701643Z",
     "start_time": "2023-03-29T17:38:26.696622Z"
    }
   },
   "outputs": [],
   "source": [
    "def shortestPath(M, A, B):\n",
    "\n",
    "    def h(p): \n",
    "        return pathLength(p)+dist(p[-1],B)\n",
    "    \n",
    "    # candidates C are pairs of the path so far and \n",
    "    # the heuristic function of that path, \n",
    "    # sorted by the heuristic function, as maintained by\n",
    "    # insert function\n",
    "    def insert(C, p):\n",
    "        hp = h(p)\n",
    "        c = (p, hp)\n",
    "        for i in range(len(C)):\n",
    "            if C[i][1]>hp:\n",
    "                return C[:i]+[c]+C[i:]\n",
    "        return C+[c]   \n",
    "        \n",
    "    V, E = M\n",
    "    assert(A in V and B in V)    \n",
    "    C = insert([], [A])\n",
    "\n",
    "    while len(C)>0:\n",
    "        # take the first candidate out of the list of candidates\n",
    "        path, _ = C[0]\n",
    "        C = C[1:]\n",
    "        if path[-1]==B:\n",
    "            return path\n",
    "        else:\n",
    "            for (x, y) in E:\n",
    "                if path[-1]==x and y not in path:\n",
    "                    C = insert(C, path+[y])\n",
    "                elif path[-1]==y and x not in path:\n",
    "                    C = insert(C, path+[x])\n",
    "    return None"
   ]
  },
  {
   "cell_type": "markdown",
   "id": "e9067321",
   "metadata": {},
   "source": [
    "## Testing"
   ]
  },
  {
   "cell_type": "code",
   "execution_count": 11,
   "id": "07a13913",
   "metadata": {
    "ExecuteTime": {
     "end_time": "2023-03-29T17:38:26.704901Z",
     "start_time": "2023-03-29T17:38:26.702591Z"
    }
   },
   "outputs": [],
   "source": [
    "A = C[0]\n",
    "B = C[-1]"
   ]
  },
  {
   "cell_type": "code",
   "execution_count": 12,
   "id": "da6071d4-f15c-405f-9843-ecf9a82f77e1",
   "metadata": {},
   "outputs": [],
   "source": [
    "MAB = addTargets(M, [A, B])"
   ]
  },
  {
   "cell_type": "code",
   "execution_count": 13,
   "id": "de4890d9-a669-4318-b71f-a239c4a49794",
   "metadata": {},
   "outputs": [
    {
     "data": {
      "image/png": "[encoded data removed]",
      "text/plain": [
       "<Figure size 600x600 with 1 Axes>"
      ]
     },
     "metadata": {},
     "output_type": "display_data"
    }
   ],
   "source": [
    "plotMap(MAB, T=[A, B])"
   ]
  },
  {
   "cell_type": "code",
   "execution_count": 14,
   "id": "5d3a96f6",
   "metadata": {
    "ExecuteTime": {
     "end_time": "2023-03-29T17:38:26.741650Z",
     "start_time": "2023-03-29T17:38:26.739591Z"
    }
   },
   "outputs": [],
   "source": [
    "P = shortestPath(MAB, A, B)"
   ]
  },
  {
   "cell_type": "code",
   "execution_count": 15,
   "id": "0653877a",
   "metadata": {
    "ExecuteTime": {
     "end_time": "2023-03-29T17:38:26.745515Z",
     "start_time": "2023-03-29T17:38:26.742643Z"
    }
   },
   "outputs": [
    {
     "data": {
      "text/plain": [
       "[(640, 3266),\n",
       " (640, 2880),\n",
       " (1200, 2320),\n",
       " (1760, 2320),\n",
       " (2320, 2320),\n",
       " (2880, 2320),\n",
       " (3440, 2880),\n",
       " (4000, 2880),\n",
       " (4560, 2880),\n",
       " (5120, 2880),\n",
       " (5680, 2880),\n",
       " (6240, 2880),\n",
       " (6240, 3440),\n",
       " (6800, 3440),\n",
       " (7360, 3440),\n",
       " (7360, 3821)]"
      ]
     },
     "execution_count": 15,
     "metadata": {},
     "output_type": "execute_result"
    }
   ],
   "source": [
    "P"
   ]
  },
  {
   "cell_type": "code",
   "execution_count": 16,
   "id": "d422d342",
   "metadata": {
    "ExecuteTime": {
     "end_time": "2023-03-29T17:38:56.225478Z",
     "start_time": "2023-03-29T17:38:56.218290Z"
    }
   },
   "outputs": [
    {
     "data": {
      "text/plain": [
       "8509"
      ]
     },
     "execution_count": 16,
     "metadata": {},
     "output_type": "execute_result"
    }
   ],
   "source": [
    "pathLength(P)"
   ]
  },
  {
   "cell_type": "code",
   "execution_count": 17,
   "id": "31be4122",
   "metadata": {
    "ExecuteTime": {
     "end_time": "2023-03-29T17:39:17.544057Z",
     "start_time": "2023-03-29T17:39:17.474863Z"
    }
   },
   "outputs": [
    {
     "data": {
      "image/png": "[encoded data removed]",
      "text/plain": [
       "<Figure size 600x600 with 1 Axes>"
      ]
     },
     "metadata": {},
     "output_type": "display_data"
    }
   ],
   "source": [
    "plotMap(MAB, T=[A, B], P=P)"
   ]
  },
  {
   "cell_type": "code",
   "execution_count": null,
   "id": "43136cbf-8251-4d0f-80de-1d52c6aa32ea",
   "metadata": {},
   "outputs": [],
   "source": []
  }
 ],
 "metadata": {
  "kernelspec": {
   "display_name": "Python 3 (ipykernel)",
   "language": "python",
   "name": "python3"
  },
  "language_info": {
   "codemirror_mode": {
    "name": "ipython",
    "version": 3
   },
   "file_extension": ".py",
   "mimetype": "text/x-python",
   "name": "python",
   "nbconvert_exporter": "python",
   "pygments_lexer": "ipython3",
   "version": "3.11.4"
  },
  "toc": {
   "base_numbering": 1,
   "nav_menu": {},
   "number_sections": true,
   "sideBar": true,
   "skip_h1_title": false,
   "title_cell": "Table of Contents",
   "title_sidebar": "Contents",
   "toc_cell": true,
   "toc_position": {},
   "toc_section_display": true,
   "toc_window_display": false
  }
 },
 "nbformat": 4,
 "nbformat_minor": 5
}
